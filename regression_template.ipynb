{
 "cells": [
  {
   "cell_type": "markdown",
   "metadata": {},
   "source": [
    "# Introduction to Scikit-Learn and Pandas\n",
    "\n",
    "Artifical Intelligence and Machine Learning Symposium at OU  \n",
    "Univeristy of Oklahoma Memorial Union Ballroom  \n",
    "September 25, 2019 \n",
    "Author: Keerti Banweer <keerti.banweer@ou.edu> \n",
    "\n",
    "## Overview: Regression (Boston housing dataset)\n",
    "\n",
    "Below are the topics that will be covered:\n",
    "1. Load the dataset using sklearn.datasets\n",
    "2. Describe the dataset using DESCR\n",
    "3. Check for missing values using numpy functions isnan() and any()\n",
    "4. Scale the data using sklearn scaler (we will be using min max scaler)\n",
    "5. regression\n",
    "    1. build the models\n",
    "    using sklearn packages: linear regression, SGD regressor, LASSO and Elastic net\n",
    "    2. Evaluate the predictions, check accuracy\n",
    "    3. compare different models using cross validation (sklearn.model_selection.cross_validate )\n",
    "    \n",
    "    \n",
    "### General References\n",
    "* [Sci-kit Learn API](https://scikit-learn.org/stable/modules/classes.html)\n",
    "    "
   ]
  },
  {
   "cell_type": "markdown",
   "metadata": {},
   "source": [
    "## Imports"
   ]
  },
  {
   "cell_type": "code",
   "execution_count": 1,
   "metadata": {},
   "outputs": [],
   "source": [
    "\"\"\"\n",
    "This section will import all the required packages\n",
    "\n",
    "\"\"\"\n",
    "\n",
    "# Index of skleanr datasets https://scikit-learn.org/stable/datasets/index.html#datasets\n",
    "# https://scikit-learn.org/stable/modules/classes.html#module-sklearn.datasets\n",
    "from sklearn.datasets import load_boston, load_iris\n",
    "from sklearn import cluster, datasets\n",
    "\n",
    "import numpy as np\n",
    "import pandas as pd\n",
    "import itertools \n",
    "import time\n",
    "\n",
    "from matplotlib import rcParams, pyplot as plt\n",
    "# Though the following import is not directly being used, it is required\n",
    "# for 3D projection to work\n",
    "from mpl_toolkits.mplot3d import Axes3D\n",
    "from matplotlib.ticker import NullFormatter\n",
    "\n",
    "from sklearn.model_selection import train_test_split\n",
    "from sklearn.model_selection import GridSearchCV\n",
    "from sklearn.model_selection import StratifiedKFold\n",
    "\n",
    "from sklearn.linear_model import LinearRegression\n",
    "from sklearn.linear_model import Lasso\n",
    "from sklearn.linear_model import ElasticNet\n",
    "\n",
    "from sklearn.metrics import make_scorer\n",
    "from sklearn.metrics import roc_auc_score\n",
    "from sklearn.metrics import auc, roc_curve\n",
    "\n",
    "from sklearn.metrics.cluster import contingency_matrix \n",
    "from sklearn.metrics.pairwise import paired_euclidean_distances\n",
    "from sklearn.metrics.pairwise import cosine_similarity\n",
    "\n",
    "from sklearn.preprocessing import StandardScaler, MinMaxScaler\n",
    "\n",
    "from sklearn.manifold import TSNE\n",
    "\n",
    "from sklearn.cluster import KMeans\n",
    "\n",
    "%matplotlib inline\n",
    "%reload_ext autoreload\n",
    "%autoreload 2\n",
    "\n",
    "rcParams['figure.figsize'] = (8, 8)\n",
    "\n",
    "globalStart = time.time()"
   ]
  },
  {
   "cell_type": "markdown",
   "metadata": {},
   "source": [
    "## Load dataset "
   ]
  },
  {
   "cell_type": "code",
   "execution_count": 2,
   "metadata": {},
   "outputs": [
    {
     "data": {
      "text/plain": [
       "'\\nWe will be using boston dataset\\nload_boston()\\nUsing functtions such as keys() and DESCR\\n'"
      ]
     },
     "execution_count": 2,
     "metadata": {},
     "output_type": "execute_result"
    }
   ],
   "source": [
    "\"\"\"\n",
    "We will be using boston dataset\n",
    "load_boston()\n",
    "Using functtions such as keys() and DESCR\n",
    "\"\"\"\n",
    "\n",
    "\n",
    "# function keys() will display the keys in dataset \n",
    "## dict_keys(['data', 'target', 'feature_names', 'DESCR', 'filename'])\n",
    "\n",
    "\n",
    "# Using DESCR function, we can display the dataset description with list of features and target\n"
   ]
  },
  {
   "cell_type": "code",
   "execution_count": 3,
   "metadata": {},
   "outputs": [
    {
     "data": {
      "text/plain": [
       "'\\nconvert the dataset load to a dataframe using pandas\\nPandas provide multiple functionality for accessing \\nand utilizing data efficiently\\n'"
      ]
     },
     "execution_count": 3,
     "metadata": {},
     "output_type": "execute_result"
    }
   ],
   "source": [
    "# In this section, we will setup variables and store data and target information\n",
    " #data key contains the data of all the features\n",
    "\n",
    "\n",
    " # list of all the attributes\n",
    "  #target column name\n",
    "\n",
    "\"\"\"\n",
    "This section, we will print out the dimensions of the data\n",
    "\"\"\"\n",
    "\n",
    "\n",
    "\"\"\"\n",
    "convert the dataset load to a dataframe using pandas\n",
    "Pandas provide multiple functionality for accessing \n",
    "and utilizing data efficiently\n",
    "\"\"\"\n"
   ]
  },
  {
   "cell_type": "code",
   "execution_count": 4,
   "metadata": {},
   "outputs": [],
   "source": [
    "#this section will check for any missing values\n"
   ]
  },
  {
   "cell_type": "code",
   "execution_count": 5,
   "metadata": {},
   "outputs": [
    {
     "data": {
      "text/plain": [
       "' \\nStore the number of samples and the number of features, by\\naccessing the values from the shape of X\\n'"
      ]
     },
     "execution_count": 5,
     "metadata": {},
     "output_type": "execute_result"
    }
   ],
   "source": [
    "\"\"\" \n",
    "Store the number of samples and the number of features, by\n",
    "accessing the values from the shape of X\n",
    "\"\"\"\n"
   ]
  },
  {
   "cell_type": "code",
   "execution_count": 6,
   "metadata": {},
   "outputs": [
    {
     "data": {
      "text/plain": [
       "'\\nVisualize the data using histogram,\\npandas have a nice function hist()\\nhere is the link for more info: \\nhttps://pandas.pydata.org/pandas-docs/stable/reference/api/pandas.DataFrame.hist.html\\n'"
      ]
     },
     "execution_count": 6,
     "metadata": {},
     "output_type": "execute_result"
    }
   ],
   "source": [
    "\"\"\"\n",
    "Visualize the data using histogram,\n",
    "pandas have a nice function hist()\n",
    "here is the link for more info: \n",
    "https://pandas.pydata.org/pandas-docs/stable/reference/api/pandas.DataFrame.hist.html\n",
    "\"\"\"\n"
   ]
  },
  {
   "cell_type": "code",
   "execution_count": 7,
   "metadata": {},
   "outputs": [
    {
     "data": {
      "text/plain": [
       "'\\nUse boxplot to display the data in feature\\n'"
      ]
     },
     "execution_count": 7,
     "metadata": {},
     "output_type": "execute_result"
    }
   ],
   "source": [
    "\"\"\"\n",
    "Use boxplot to display the data in feature\n",
    "\"\"\"\n"
   ]
  },
  {
   "cell_type": "code",
   "execution_count": 8,
   "metadata": {},
   "outputs": [
    {
     "data": {
      "text/plain": [
       "'\\nUse min-max scaler to scale the data\\n'"
      ]
     },
     "execution_count": 8,
     "metadata": {},
     "output_type": "execute_result"
    }
   ],
   "source": [
    "\"\"\"\n",
    "Use min-max scaler to scale the data\n",
    "\"\"\"\n"
   ]
  },
  {
   "cell_type": "code",
   "execution_count": 9,
   "metadata": {},
   "outputs": [
    {
     "data": {
      "text/plain": [
       "'\\nDisplay the scaled dataset\\n'"
      ]
     },
     "execution_count": 9,
     "metadata": {},
     "output_type": "execute_result"
    }
   ],
   "source": [
    "\"\"\"\n",
    "Display the scaled dataset\n",
    "\"\"\"\n",
    "\n"
   ]
  },
  {
   "cell_type": "code",
   "execution_count": 10,
   "metadata": {},
   "outputs": [
    {
     "data": {
      "text/plain": [
       "'\\nUse boxplot to display the data in feature\\n'"
      ]
     },
     "execution_count": 10,
     "metadata": {},
     "output_type": "execute_result"
    }
   ],
   "source": [
    "\"\"\"\n",
    "Use boxplot to display the data in feature\n",
    "\"\"\"\n"
   ]
  },
  {
   "cell_type": "code",
   "execution_count": 11,
   "metadata": {},
   "outputs": [],
   "source": [
    "# add target column to the dataframe\n"
   ]
  },
  {
   "cell_type": "code",
   "execution_count": 12,
   "metadata": {},
   "outputs": [],
   "source": [
    "# Display top 5 rows\n"
   ]
  },
  {
   "cell_type": "markdown",
   "metadata": {},
   "source": [
    "## Regression\n",
    "Update the models "
   ]
  },
  {
   "cell_type": "code",
   "execution_count": 13,
   "metadata": {},
   "outputs": [
    {
     "data": {
      "text/plain": [
       "'\\nCreate a linear regression model\\n'"
      ]
     },
     "execution_count": 13,
     "metadata": {},
     "output_type": "execute_result"
    }
   ],
   "source": [
    "\"\"\"\n",
    "Create a linear regression model\n",
    "\"\"\"\n"
   ]
  },
  {
   "cell_type": "code",
   "execution_count": 22,
   "metadata": {},
   "outputs": [],
   "source": [
    "# train_test_split using sklearn\n",
    "\n"
   ]
  },
  {
   "cell_type": "code",
   "execution_count": 14,
   "metadata": {},
   "outputs": [],
   "source": [
    "# shape of train data\n",
    "\n"
   ]
  },
  {
   "cell_type": "code",
   "execution_count": 15,
   "metadata": {},
   "outputs": [],
   "source": [
    "# shape of test data\n",
    "\n"
   ]
  },
  {
   "cell_type": "code",
   "execution_count": 25,
   "metadata": {},
   "outputs": [
    {
     "data": {
      "text/plain": [
       "(339,)"
      ]
     },
     "execution_count": 25,
     "metadata": {},
     "output_type": "execute_result"
    }
   ],
   "source": []
  },
  {
   "cell_type": "code",
   "execution_count": 26,
   "metadata": {},
   "outputs": [
    {
     "data": {
      "text/plain": [
       "LinearRegression(copy_X=True, fit_intercept=True, n_jobs=None,\n",
       "         normalize=False)"
      ]
     },
     "execution_count": 26,
     "metadata": {},
     "output_type": "execute_result"
    }
   ],
   "source": [
    "## after the train test split, use the linear regression \n",
    " "
   ]
  },
  {
   "cell_type": "code",
   "execution_count": 27,
   "metadata": {},
   "outputs": [],
   "source": [
    "# Calculate the predictive accuracy of training dataset\n"
   ]
  },
  {
   "cell_type": "code",
   "execution_count": 28,
   "metadata": {},
   "outputs": [],
   "source": [
    "# Calculate the predictive accuracy of test dataset\n"
   ]
  },
  {
   "cell_type": "code",
   "execution_count": 16,
   "metadata": {},
   "outputs": [],
   "source": [
    "# Prediction using Linear regression model\n",
    "\n"
   ]
  },
  {
   "cell_type": "code",
   "execution_count": 17,
   "metadata": {},
   "outputs": [],
   "source": [
    "# Print the stats \n"
   ]
  },
  {
   "cell_type": "code",
   "execution_count": 18,
   "metadata": {},
   "outputs": [],
   "source": [
    "#Plot the Scatter plots to show the predictions\n",
    "\n"
   ]
  },
  {
   "cell_type": "code",
   "execution_count": 19,
   "metadata": {},
   "outputs": [],
   "source": [
    "## Linear Model trained with L1 prior as regularizer (aka the Lasso)\n"
   ]
  },
  {
   "cell_type": "code",
   "execution_count": 46,
   "metadata": {},
   "outputs": [
    {
     "name": "stdout",
     "output_type": "stream",
     "text": [
      "Train Accuracy 0.73\n",
      "Test Accuracy 0.70\n",
      "[-0.11621593  0.04163929 -0.0218949   1.73588239 -0.          3.68084761\n",
      " -0.02707188 -1.24007073  0.21427949 -0.01045183 -0.70264226  0.01235152\n",
      " -0.60766973]\n"
     ]
    }
   ],
   "source": [
    "# In this section we will use the Lasso regression model to train and predict\n",
    "X_train, X_test, y_train, y_test = train_test_split(X, y, test_size=0.35, random_state=42)\n",
    "\n",
    "# train the model\n",
    "lasso_model.fit(X_train, y_train)\n",
    "\n",
    "# Calculate the predictive accuracy of training dataset\n",
    "# scoe method will returns the coefficient of determination R^2 of the prediction.\n",
    "training_acc_lasso = lasso_model.score(X_train, y_train)\n",
    "\n",
    "# Calculate the predictive accuracy of test dataset\n",
    "test_acc_lasso = lasso_model.score(X_test, y_test)\n",
    "\n",
    "# Print the stats \n",
    "print(\"Train Accuracy %.02f\" % training_acc_lasso)\n",
    "print(\"Test Accuracy %.02f\" % test_acc_lasso)\n",
    "\n",
    "print(lasso_model.coef_)\n",
    "\n",
    "pred_lasso_model = lasso_model.predict(X_test)"
   ]
  },
  {
   "cell_type": "code",
   "execution_count": 20,
   "metadata": {},
   "outputs": [],
   "source": [
    "#Plot the Scatter plots to show the predictions\n",
    "\n"
   ]
  },
  {
   "cell_type": "markdown",
   "metadata": {},
   "source": [
    "\n",
    " \n"
   ]
  }
 ],
 "metadata": {
  "kernelspec": {
   "display_name": "Python 3",
   "language": "python",
   "name": "python3"
  },
  "language_info": {
   "codemirror_mode": {
    "name": "ipython",
    "version": 3
   },
   "file_extension": ".py",
   "mimetype": "text/x-python",
   "name": "python",
   "nbconvert_exporter": "python",
   "pygments_lexer": "ipython3",
   "version": "3.7.2"
  }
 },
 "nbformat": 4,
 "nbformat_minor": 2
}
