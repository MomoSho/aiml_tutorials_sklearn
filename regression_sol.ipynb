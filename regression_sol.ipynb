{
 "cells": [
  {
   "cell_type": "markdown",
   "metadata": {},
   "source": [
    "# Introduction to Scikit-Learn and Pandas\n",
    "\n",
    "Artifical Intelligence and Machine Learning Symposium at OU  \n",
    "Univeristy of Oklahoma Memorial Union Ballroom  \n",
    "September 25, 2019 \n",
    "Author: Keerti Banweer <keerti.banweer@ou.edu> \n",
    "\n",
    "## Overview: Regression (Boston housing dataset)\n",
    "\n",
    "Below are the topics that will be covered:\n",
    "1. Load the dataset using sklearn.datasets\n",
    "2. Describe the dataset using DESCR\n",
    "3. Check for missing values using numpy functions isnan() and any()\n",
    "4. Scale the data using sklearn scaler (we will be using min max scaler)\n",
    "5. regression\n",
    "    1. build the models\n",
    "    using sklearn packages: linear regression, SGD regressor, LASSO and Elastic net\n",
    "    2. Evaluate the predictions, check accuracy\n",
    "    3. compare different models using cross validation (sklearn.model_selection.cross_validate )\n",
    "    \n",
    "    \n",
    "### General References\n",
    "* [Sci-kit Learn API](https://scikit-learn.org/stable/modules/classes.html)\n",
    "    "
   ]
  },
  {
   "cell_type": "markdown",
   "metadata": {},
   "source": [
    "## Imports"
   ]
  },
  {
   "cell_type": "code",
   "execution_count": 12,
   "metadata": {},
   "outputs": [],
   "source": [
    "\"\"\"\n",
    "This section will import all the required packages\n",
    "\n",
    "\"\"\"\n",
    "\n",
    "# Index of skleanr datasets https://scikit-learn.org/stable/datasets/index.html#datasets\n",
    "# https://scikit-learn.org/stable/modules/classes.html#module-sklearn.datasets\n",
    "from sklearn.datasets import load_boston, load_iris\n",
    "from sklearn import cluster, datasets\n",
    "\n",
    "import numpy as np\n",
    "import pandas as pd\n",
    "import itertools \n",
    "import time\n",
    "\n",
    "from matplotlib import rcParams, pyplot as plt\n",
    "# Though the following import is not directly being used, it is required\n",
    "# for 3D projection to work\n",
    "from mpl_toolkits.mplot3d import Axes3D\n",
    "from matplotlib.ticker import NullFormatter\n",
    "\n",
    "from sklearn.model_selection import train_test_split\n",
    "from sklearn.model_selection import GridSearchCV\n",
    "from sklearn.model_selection import StratifiedKFold\n",
    "\n",
    "from sklearn.linear_model import LinearRegression\n",
    "from sklearn.linear_model import Lasso\n",
    "from sklearn.linear_model import ElasticNet\n",
    "\n",
    "from sklearn.metrics import make_scorer\n",
    "from sklearn.metrics import roc_auc_score\n",
    "from sklearn.metrics import auc, roc_curve\n",
    "\n",
    "from sklearn.metrics.cluster import contingency_matrix \n",
    "from sklearn.metrics.pairwise import paired_euclidean_distances\n",
    "from sklearn.metrics.pairwise import cosine_similarity\n",
    "\n",
    "from sklearn.preprocessing import StandardScaler, MinMaxScaler\n",
    "\n",
    "from sklearn.manifold import TSNE\n",
    "\n",
    "from sklearn.cluster import KMeans\n",
    "\n",
    "%matplotlib inline\n",
    "%reload_ext autoreload\n",
    "%autoreload 2\n",
    "\n",
    "rcParams['figure.figsize'] = (8, 8)\n",
    "\n",
    "globalStart = time.time()"
   ]
  },
  {
   "cell_type": "markdown",
   "metadata": {},
   "source": [
    "## Load dataset "
   ]
  },
  {
   "cell_type": "code",
   "execution_count": 3,
   "metadata": {},
   "outputs": [
    {
     "name": "stdout",
     "output_type": "stream",
     "text": [
      "dict_keys(['data', 'target', 'feature_names', 'DESCR', 'filename'])\n",
      ".. _boston_dataset:\n",
      "\n",
      "Boston house prices dataset\n",
      "---------------------------\n",
      "\n",
      "**Data Set Characteristics:**  \n",
      "\n",
      "    :Number of Instances: 506 \n",
      "\n",
      "    :Number of Attributes: 13 numeric/categorical predictive. Median Value (attribute 14) is usually the target.\n",
      "\n",
      "    :Attribute Information (in order):\n",
      "        - CRIM     per capita crime rate by town\n",
      "        - ZN       proportion of residential land zoned for lots over 25,000 sq.ft.\n",
      "        - INDUS    proportion of non-retail business acres per town\n",
      "        - CHAS     Charles River dummy variable (= 1 if tract bounds river; 0 otherwise)\n",
      "        - NOX      nitric oxides concentration (parts per 10 million)\n",
      "        - RM       average number of rooms per dwelling\n",
      "        - AGE      proportion of owner-occupied units built prior to 1940\n",
      "        - DIS      weighted distances to five Boston employment centres\n",
      "        - RAD      index of accessibility to radial highways\n",
      "        - TAX      full-value property-tax rate per $10,000\n",
      "        - PTRATIO  pupil-teacher ratio by town\n",
      "        - B        1000(Bk - 0.63)^2 where Bk is the proportion of blacks by town\n",
      "        - LSTAT    % lower status of the population\n",
      "        - MEDV     Median value of owner-occupied homes in $1000's\n",
      "\n",
      "    :Missing Attribute Values: None\n",
      "\n",
      "    :Creator: Harrison, D. and Rubinfeld, D.L.\n",
      "\n",
      "This is a copy of UCI ML housing dataset.\n",
      "https://archive.ics.uci.edu/ml/machine-learning-databases/housing/\n",
      "\n",
      "\n",
      "This dataset was taken from the StatLib library which is maintained at Carnegie Mellon University.\n",
      "\n",
      "The Boston house-price data of Harrison, D. and Rubinfeld, D.L. 'Hedonic\n",
      "prices and the demand for clean air', J. Environ. Economics & Management,\n",
      "vol.5, 81-102, 1978.   Used in Belsley, Kuh & Welsch, 'Regression diagnostics\n",
      "...', Wiley, 1980.   N.B. Various transformations are used in the table on\n",
      "pages 244-261 of the latter.\n",
      "\n",
      "The Boston house-price data has been used in many machine learning papers that address regression\n",
      "problems.   \n",
      "     \n",
      ".. topic:: References\n",
      "\n",
      "   - Belsley, Kuh & Welsch, 'Regression diagnostics: Identifying Influential Data and Sources of Collinearity', Wiley, 1980. 244-261.\n",
      "   - Quinlan,R. (1993). Combining Instance-Based and Model-Based Learning. In Proceedings on the Tenth International Conference of Machine Learning, 236-243, University of Massachusetts, Amherst. Morgan Kaufmann.\n",
      "\n"
     ]
    }
   ],
   "source": [
    "\"\"\"\n",
    "We will be using boston dataset\n",
    "load_boston()\n",
    "Using functtions such as keys() and DESCR\n",
    "\"\"\"\n",
    "\n",
    "boston_data = datasets.load_boston()\n",
    "\n",
    "# function keys() will display the keys in dataset \n",
    "## dict_keys(['data', 'target', 'feature_names', 'DESCR', 'filename'])\n",
    "print(boston_data.keys())\n",
    "\n",
    "# Using DESCR function, we can display the dataset description with list of features and target\n",
    "print(boston_data.DESCR)"
   ]
  },
  {
   "cell_type": "code",
   "execution_count": 4,
   "metadata": {},
   "outputs": [
    {
     "name": "stdout",
     "output_type": "stream",
     "text": [
      "SETUP the data\n",
      "(506, 13) (506,)\n",
      "Features: \n",
      "['CRIM' 'ZN' 'INDUS' 'CHAS' 'NOX' 'RM' 'AGE' 'DIS' 'RAD' 'TAX' 'PTRATIO'\n",
      " 'B' 'LSTAT']\n",
      "Targets: \n",
      "['MEDV']\n"
     ]
    }
   ],
   "source": [
    "# In this section, we will setup variables and store data and target information\n",
    "X = boston_data.data #data key contains the data of all the features\n",
    "y = boston_data.target\n",
    "\n",
    "feature_names = boston_data.feature_names # list of all the attributes\n",
    "target_names = ['MEDV']  #target column name\n",
    "\n",
    "\"\"\"\n",
    "This section, we will print out the dimensions of the data\n",
    "\"\"\"\n",
    "print (\"SETUP the data\")\n",
    "print (X.shape, y.shape)\n",
    "print (\"Features: \\n\" + str(feature_names))\n",
    "print (\"Targets: \\n\" + str(target_names))\n",
    "\n",
    "\"\"\"\n",
    "convert the dataset load to a dataframe using pandas\n",
    "Pandas provide multiple functionality for accessing \n",
    "and utilizing data efficiently\n",
    "\"\"\"\n",
    "data_housing = pd.DataFrame(X, columns = boston_data.feature_names)\n"
   ]
  },
  {
   "cell_type": "code",
   "execution_count": 7,
   "metadata": {},
   "outputs": [
    {
     "data": {
      "text/plain": [
       "False"
      ]
     },
     "execution_count": 7,
     "metadata": {},
     "output_type": "execute_result"
    }
   ],
   "source": [
    "#this section will check for any missing values\n",
    "np.any(np.isnan(data_housing))"
   ]
  },
  {
   "cell_type": "code",
   "execution_count": 8,
   "metadata": {},
   "outputs": [
    {
     "name": "stdout",
     "output_type": "stream",
     "text": [
      "Number of samples: 506\n",
      "Number of features: 13\n"
     ]
    }
   ],
   "source": [
    "\"\"\" \n",
    "Store the number of samples and the number of features, by\n",
    "accessing the values from the shape of X\n",
    "\"\"\"\n",
    "nsamples = X.shape[0]\n",
    "nfeatures = X.shape[1]\n",
    "\n",
    "print(\"Number of samples: \" + str(nsamples))\n",
    "print(\"Number of features: \" + str(nfeatures))"
   ]
  },
  {
   "cell_type": "code",
   "execution_count": 9,
   "metadata": {},
   "outputs": [
    {
     "data": {
      "image/png": "[encoded data removed]",
      "text/plain": [
       "<Figure size 1080x1080 with 16 Axes>"
      ]
     },
     "metadata": {
      "needs_background": "light"
     },
     "output_type": "display_data"
    }
   ],
   "source": [
    "\"\"\"\n",
    "Visualize the data using histogram,\n",
    "pandas have a nice function hist()\n",
    "here is the link for more info: \n",
    "https://pandas.pydata.org/pandas-docs/stable/reference/api/pandas.DataFrame.hist.html\n",
    "\"\"\"\n",
    "data_housing.hist(grid=False, figsize=(15,15))\n",
    "a = 1"
   ]
  },
  {
   "cell_type": "code",
   "execution_count": 10,
   "metadata": {},
   "outputs": [
    {
     "data": {
      "text/plain": [
       "<matplotlib.axes._subplots.AxesSubplot at 0x108749cf8>"
      ]
     },
     "execution_count": 10,
     "metadata": {},
     "output_type": "execute_result"
    },
    {
     "data": {
      "image/png": "[encoded data removed]",
      "text/plain": [
       "<Figure size 720x720 with 1 Axes>"
      ]
     },
     "metadata": {
      "needs_background": "light"
     },
     "output_type": "display_data"
    }
   ],
   "source": [
    "\"\"\"\n",
    "Use boxplot to display the data in feature\n",
    "\"\"\"\n",
    "data_housing.boxplot(grid=False, figsize=(10,10))"
   ]
  },
  {
   "cell_type": "code",
   "execution_count": 13,
   "metadata": {},
   "outputs": [
    {
     "data": {
      "text/plain": [
       "MinMaxScaler(copy=True, feature_range=(0, 1))"
      ]
     },
     "execution_count": 13,
     "metadata": {},
     "output_type": "execute_result"
    }
   ],
   "source": [
    "\"\"\"\n",
    "Use min-max scaler to scale the data\n",
    "\"\"\"\n",
    "minmax_scaler = MinMaxScaler()\n",
    "minmax_scaler"
   ]
  },
  {
   "cell_type": "code",
   "execution_count": 17,
   "metadata": {},
   "outputs": [
    {
     "data": {
      "image/png": "[encoded data removed]",
      "text/plain": [
       "<Figure size 1080x1080 with 16 Axes>"
      ]
     },
     "metadata": {
      "needs_background": "light"
     },
     "output_type": "display_data"
    }
   ],
   "source": [
    "Xclean_minmax = minmax_scaler.fit_transform(X)\n",
    "df_scaled = pd.DataFrame(Xclean_minmax, columns=feature_names)\n",
    "df_scaled.hist(bins = 30,  grid=False, figsize=(15,15))\n",
    "a = 1"
   ]
  },
  {
   "cell_type": "code",
   "execution_count": 18,
   "metadata": {},
   "outputs": [
    {
     "data": {
      "text/plain": [
       "<matplotlib.axes._subplots.AxesSubplot at 0x125da4be0>"
      ]
     },
     "execution_count": 18,
     "metadata": {},
     "output_type": "execute_result"
    },
    {
     "data": {
      "image/png": "[encoded data removed]",
      "text/plain": [
       "<Figure size 720x720 with 1 Axes>"
      ]
     },
     "metadata": {
      "needs_background": "light"
     },
     "output_type": "display_data"
    }
   ],
   "source": [
    "\"\"\"\n",
    "Use boxplot to display the data in feature\n",
    "\"\"\"\n",
    "df_scaled.boxplot(grid=False, figsize=(8, 8))"
   ]
  },
  {
   "cell_type": "code",
   "execution_count": 19,
   "metadata": {},
   "outputs": [
    {
     "data": {
      "text/html": [
       "<div>\n",
       "<style scoped>\n",
       "    .dataframe tbody tr th:only-of-type {\n",
       "        vertical-align: middle;\n",
       "    }\n",
       "\n",
       "    .dataframe tbody tr th {\n",
       "        vertical-align: top;\n",
       "    }\n",
       "\n",
       "    .dataframe thead th {\n",
       "        text-align: right;\n",
       "    }\n",
       "</style>\n",
       "<table border=\"1\" class=\"dataframe\">\n",
       "  <thead>\n",
       "    <tr style=\"text-align: right;\">\n",
       "      <th></th>\n",
       "      <th>CRIM</th>\n",
       "      <th>ZN</th>\n",
       "      <th>INDUS</th>\n",
       "      <th>CHAS</th>\n",
       "      <th>NOX</th>\n",
       "      <th>RM</th>\n",
       "      <th>AGE</th>\n",
       "      <th>DIS</th>\n",
       "      <th>RAD</th>\n",
       "      <th>TAX</th>\n",
       "      <th>PTRATIO</th>\n",
       "      <th>B</th>\n",
       "      <th>LSTAT</th>\n",
       "      <th>PRED COST</th>\n",
       "    </tr>\n",
       "  </thead>\n",
       "  <tbody>\n",
       "    <tr>\n",
       "      <th>0</th>\n",
       "      <td>0.00632</td>\n",
       "      <td>18.0</td>\n",
       "      <td>2.31</td>\n",
       "      <td>0.0</td>\n",
       "      <td>0.538</td>\n",
       "      <td>6.575</td>\n",
       "      <td>65.2</td>\n",
       "      <td>4.0900</td>\n",
       "      <td>1.0</td>\n",
       "      <td>296.0</td>\n",
       "      <td>15.3</td>\n",
       "      <td>396.90</td>\n",
       "      <td>4.98</td>\n",
       "      <td>24.0</td>\n",
       "    </tr>\n",
       "    <tr>\n",
       "      <th>1</th>\n",
       "      <td>0.02731</td>\n",
       "      <td>0.0</td>\n",
       "      <td>7.07</td>\n",
       "      <td>0.0</td>\n",
       "      <td>0.469</td>\n",
       "      <td>6.421</td>\n",
       "      <td>78.9</td>\n",
       "      <td>4.9671</td>\n",
       "      <td>2.0</td>\n",
       "      <td>242.0</td>\n",
       "      <td>17.8</td>\n",
       "      <td>396.90</td>\n",
       "      <td>9.14</td>\n",
       "      <td>21.6</td>\n",
       "    </tr>\n",
       "    <tr>\n",
       "      <th>2</th>\n",
       "      <td>0.02729</td>\n",
       "      <td>0.0</td>\n",
       "      <td>7.07</td>\n",
       "      <td>0.0</td>\n",
       "      <td>0.469</td>\n",
       "      <td>7.185</td>\n",
       "      <td>61.1</td>\n",
       "      <td>4.9671</td>\n",
       "      <td>2.0</td>\n",
       "      <td>242.0</td>\n",
       "      <td>17.8</td>\n",
       "      <td>392.83</td>\n",
       "      <td>4.03</td>\n",
       "      <td>34.7</td>\n",
       "    </tr>\n",
       "    <tr>\n",
       "      <th>3</th>\n",
       "      <td>0.03237</td>\n",
       "      <td>0.0</td>\n",
       "      <td>2.18</td>\n",
       "      <td>0.0</td>\n",
       "      <td>0.458</td>\n",
       "      <td>6.998</td>\n",
       "      <td>45.8</td>\n",
       "      <td>6.0622</td>\n",
       "      <td>3.0</td>\n",
       "      <td>222.0</td>\n",
       "      <td>18.7</td>\n",
       "      <td>394.63</td>\n",
       "      <td>2.94</td>\n",
       "      <td>33.4</td>\n",
       "    </tr>\n",
       "    <tr>\n",
       "      <th>4</th>\n",
       "      <td>0.06905</td>\n",
       "      <td>0.0</td>\n",
       "      <td>2.18</td>\n",
       "      <td>0.0</td>\n",
       "      <td>0.458</td>\n",
       "      <td>7.147</td>\n",
       "      <td>54.2</td>\n",
       "      <td>6.0622</td>\n",
       "      <td>3.0</td>\n",
       "      <td>222.0</td>\n",
       "      <td>18.7</td>\n",
       "      <td>396.90</td>\n",
       "      <td>5.33</td>\n",
       "      <td>36.2</td>\n",
       "    </tr>\n",
       "  </tbody>\n",
       "</table>\n",
       "</div>"
      ],
      "text/plain": [
       "      CRIM    ZN  INDUS  CHAS    NOX     RM   AGE     DIS  RAD    TAX  \\\n",
       "0  0.00632  18.0   2.31   0.0  0.538  6.575  65.2  4.0900  1.0  296.0   \n",
       "1  0.02731   0.0   7.07   0.0  0.469  6.421  78.9  4.9671  2.0  242.0   \n",
       "2  0.02729   0.0   7.07   0.0  0.469  7.185  61.1  4.9671  2.0  242.0   \n",
       "3  0.03237   0.0   2.18   0.0  0.458  6.998  45.8  6.0622  3.0  222.0   \n",
       "4  0.06905   0.0   2.18   0.0  0.458  7.147  54.2  6.0622  3.0  222.0   \n",
       "\n",
       "   PTRATIO       B  LSTAT  PRED COST  \n",
       "0     15.3  396.90   4.98       24.0  \n",
       "1     17.8  396.90   9.14       21.6  \n",
       "2     17.8  392.83   4.03       34.7  \n",
       "3     18.7  394.63   2.94       33.4  \n",
       "4     18.7  396.90   5.33       36.2  "
      ]
     },
     "execution_count": 19,
     "metadata": {},
     "output_type": "execute_result"
    }
   ],
   "source": [
    "# add target column to the dataframe\n",
    "data_housing['PRED COST'] = boston_data.target \n",
    "data_housing.head()"
   ]
  },
  {
   "cell_type": "code",
   "execution_count": 20,
   "metadata": {},
   "outputs": [
    {
     "data": {
      "text/html": [
       "<div>\n",
       "<style scoped>\n",
       "    .dataframe tbody tr th:only-of-type {\n",
       "        vertical-align: middle;\n",
       "    }\n",
       "\n",
       "    .dataframe tbody tr th {\n",
       "        vertical-align: top;\n",
       "    }\n",
       "\n",
       "    .dataframe thead th {\n",
       "        text-align: right;\n",
       "    }\n",
       "</style>\n",
       "<table border=\"1\" class=\"dataframe\">\n",
       "  <thead>\n",
       "    <tr style=\"text-align: right;\">\n",
       "      <th></th>\n",
       "      <th>CRIM</th>\n",
       "      <th>ZN</th>\n",
       "      <th>INDUS</th>\n",
       "      <th>CHAS</th>\n",
       "      <th>NOX</th>\n",
       "      <th>RM</th>\n",
       "      <th>AGE</th>\n",
       "      <th>DIS</th>\n",
       "      <th>RAD</th>\n",
       "      <th>TAX</th>\n",
       "      <th>PTRATIO</th>\n",
       "      <th>B</th>\n",
       "      <th>LSTAT</th>\n",
       "      <th>PRED COST</th>\n",
       "    </tr>\n",
       "  </thead>\n",
       "  <tbody>\n",
       "    <tr>\n",
       "      <th>501</th>\n",
       "      <td>0.06263</td>\n",
       "      <td>0.0</td>\n",
       "      <td>11.93</td>\n",
       "      <td>0.0</td>\n",
       "      <td>0.573</td>\n",
       "      <td>6.593</td>\n",
       "      <td>69.1</td>\n",
       "      <td>2.4786</td>\n",
       "      <td>1.0</td>\n",
       "      <td>273.0</td>\n",
       "      <td>21.0</td>\n",
       "      <td>391.99</td>\n",
       "      <td>9.67</td>\n",
       "      <td>22.4</td>\n",
       "    </tr>\n",
       "    <tr>\n",
       "      <th>502</th>\n",
       "      <td>0.04527</td>\n",
       "      <td>0.0</td>\n",
       "      <td>11.93</td>\n",
       "      <td>0.0</td>\n",
       "      <td>0.573</td>\n",
       "      <td>6.120</td>\n",
       "      <td>76.7</td>\n",
       "      <td>2.2875</td>\n",
       "      <td>1.0</td>\n",
       "      <td>273.0</td>\n",
       "      <td>21.0</td>\n",
       "      <td>396.90</td>\n",
       "      <td>9.08</td>\n",
       "      <td>20.6</td>\n",
       "    </tr>\n",
       "    <tr>\n",
       "      <th>503</th>\n",
       "      <td>0.06076</td>\n",
       "      <td>0.0</td>\n",
       "      <td>11.93</td>\n",
       "      <td>0.0</td>\n",
       "      <td>0.573</td>\n",
       "      <td>6.976</td>\n",
       "      <td>91.0</td>\n",
       "      <td>2.1675</td>\n",
       "      <td>1.0</td>\n",
       "      <td>273.0</td>\n",
       "      <td>21.0</td>\n",
       "      <td>396.90</td>\n",
       "      <td>5.64</td>\n",
       "      <td>23.9</td>\n",
       "    </tr>\n",
       "    <tr>\n",
       "      <th>504</th>\n",
       "      <td>0.10959</td>\n",
       "      <td>0.0</td>\n",
       "      <td>11.93</td>\n",
       "      <td>0.0</td>\n",
       "      <td>0.573</td>\n",
       "      <td>6.794</td>\n",
       "      <td>89.3</td>\n",
       "      <td>2.3889</td>\n",
       "      <td>1.0</td>\n",
       "      <td>273.0</td>\n",
       "      <td>21.0</td>\n",
       "      <td>393.45</td>\n",
       "      <td>6.48</td>\n",
       "      <td>22.0</td>\n",
       "    </tr>\n",
       "    <tr>\n",
       "      <th>505</th>\n",
       "      <td>0.04741</td>\n",
       "      <td>0.0</td>\n",
       "      <td>11.93</td>\n",
       "      <td>0.0</td>\n",
       "      <td>0.573</td>\n",
       "      <td>6.030</td>\n",
       "      <td>80.8</td>\n",
       "      <td>2.5050</td>\n",
       "      <td>1.0</td>\n",
       "      <td>273.0</td>\n",
       "      <td>21.0</td>\n",
       "      <td>396.90</td>\n",
       "      <td>7.88</td>\n",
       "      <td>11.9</td>\n",
       "    </tr>\n",
       "  </tbody>\n",
       "</table>\n",
       "</div>"
      ],
      "text/plain": [
       "        CRIM   ZN  INDUS  CHAS    NOX     RM   AGE     DIS  RAD    TAX  \\\n",
       "501  0.06263  0.0  11.93   0.0  0.573  6.593  69.1  2.4786  1.0  273.0   \n",
       "502  0.04527  0.0  11.93   0.0  0.573  6.120  76.7  2.2875  1.0  273.0   \n",
       "503  0.06076  0.0  11.93   0.0  0.573  6.976  91.0  2.1675  1.0  273.0   \n",
       "504  0.10959  0.0  11.93   0.0  0.573  6.794  89.3  2.3889  1.0  273.0   \n",
       "505  0.04741  0.0  11.93   0.0  0.573  6.030  80.8  2.5050  1.0  273.0   \n",
       "\n",
       "     PTRATIO       B  LSTAT  PRED COST  \n",
       "501     21.0  391.99   9.67       22.4  \n",
       "502     21.0  396.90   9.08       20.6  \n",
       "503     21.0  396.90   5.64       23.9  \n",
       "504     21.0  393.45   6.48       22.0  \n",
       "505     21.0  396.90   7.88       11.9  "
      ]
     },
     "execution_count": 20,
     "metadata": {},
     "output_type": "execute_result"
    }
   ],
   "source": [
    "# Display top 5 rows\n",
    "data_housing.tail()"
   ]
  },
  {
   "cell_type": "markdown",
   "metadata": {},
   "source": [
    "## Regression\n",
    "Update the models "
   ]
  },
  {
   "cell_type": "code",
   "execution_count": 21,
   "metadata": {},
   "outputs": [],
   "source": [
    "\"\"\"\n",
    "Create a linear regression model\n",
    "\"\"\"\n",
    "reg_model = LinearRegression()"
   ]
  },
  {
   "cell_type": "code",
   "execution_count": 22,
   "metadata": {},
   "outputs": [],
   "source": [
    "# train_test_split using sklearn\n",
    "\n",
    "X_train, X_test, y_train, y_test = train_test_split(X, y, test_size=0.35, random_state=42)"
   ]
  },
  {
   "cell_type": "code",
   "execution_count": 23,
   "metadata": {},
   "outputs": [
    {
     "data": {
      "text/plain": [
       "(339, 13)"
      ]
     },
     "execution_count": 23,
     "metadata": {},
     "output_type": "execute_result"
    }
   ],
   "source": [
    "X_train.shape"
   ]
  },
  {
   "cell_type": "code",
   "execution_count": 24,
   "metadata": {},
   "outputs": [
    {
     "data": {
      "text/plain": [
       "(167, 13)"
      ]
     },
     "execution_count": 24,
     "metadata": {},
     "output_type": "execute_result"
    }
   ],
   "source": [
    "X_test.shape"
   ]
  },
  {
   "cell_type": "code",
   "execution_count": 25,
   "metadata": {},
   "outputs": [
    {
     "data": {
      "text/plain": [
       "(339,)"
      ]
     },
     "execution_count": 25,
     "metadata": {},
     "output_type": "execute_result"
    }
   ],
   "source": [
    "y_train.shape"
   ]
  },
  {
   "cell_type": "code",
   "execution_count": 26,
   "metadata": {},
   "outputs": [
    {
     "data": {
      "text/plain": [
       "LinearRegression(copy_X=True, fit_intercept=True, n_jobs=None,\n",
       "         normalize=False)"
      ]
     },
     "execution_count": 26,
     "metadata": {},
     "output_type": "execute_result"
    }
   ],
   "source": [
    "## after the train test split, use the linear regression \n",
    "reg_model.fit(X_train, y_train) "
   ]
  },
  {
   "cell_type": "code",
   "execution_count": 27,
   "metadata": {},
   "outputs": [],
   "source": [
    "# Calculate the predictive accuracy of training dataset\n",
    "training_accuracy = reg_model.score(X_train, y_train)"
   ]
  },
  {
   "cell_type": "code",
   "execution_count": 28,
   "metadata": {},
   "outputs": [],
   "source": [
    "# Calculate the predictive accuracy of test dataset\n",
    "test_accuracy = reg_model.score(X_test, y_test)"
   ]
  },
  {
   "cell_type": "code",
   "execution_count": 32,
   "metadata": {},
   "outputs": [],
   "source": [
    "# Prediction using Linear regression model\n",
    "\n",
    "pred_y = reg_model.predict(X_test)"
   ]
  },
  {
   "cell_type": "code",
   "execution_count": 33,
   "metadata": {},
   "outputs": [
    {
     "name": "stdout",
     "output_type": "stream",
     "text": [
      "Train Accuracy 0.74\n",
      "Test Accuracy 0.73\n"
     ]
    }
   ],
   "source": [
    "# Print the stats \n",
    "print(\"Train Accuracy %.02f\" % training_accuracy)\n",
    "print(\"Test Accuracy %.02f\" % test_accuracy)"
   ]
  },
  {
   "cell_type": "code",
   "execution_count": 34,
   "metadata": {},
   "outputs": [
    {
     "data": {
      "image/png": "[encoded data removed]",
      "text/plain": [
       "<Figure size 576x576 with 1 Axes>"
      ]
     },
     "metadata": {
      "needs_background": "light"
     },
     "output_type": "display_data"
    }
   ],
   "source": [
    "#Plot the Scatter plots to show the predictions\n",
    "\n",
    "plt.scatter(y_test, pred_y, c = 'b') \n",
    "plt.xlabel(\"Housing Cost: in $1000's\") \n",
    "plt.ylabel(\"Predicted value using linear regression model\") \n",
    "plt.title(\"True value vs predicted value\") \n",
    "plt.show()"
   ]
  },
  {
   "cell_type": "code",
   "execution_count": 43,
   "metadata": {},
   "outputs": [
    {
     "data": {
      "text/plain": [
       "Lasso(alpha=0.1, copy_X=True, fit_intercept=True, max_iter=2000,\n",
       "   normalize=False, positive=False, precompute=False, random_state=None,\n",
       "   selection='cyclic', tol=0.0001, warm_start=False)"
      ]
     },
     "execution_count": 43,
     "metadata": {},
     "output_type": "execute_result"
    }
   ],
   "source": [
    "## Linear Model trained with L1 prior as regularizer (aka the Lasso)\n",
    "lasso_model = Lasso(alpha=0.1, max_iter = 2000)\n",
    "lasso_model"
   ]
  },
  {
   "cell_type": "code",
   "execution_count": 46,
   "metadata": {},
   "outputs": [
    {
     "name": "stdout",
     "output_type": "stream",
     "text": [
      "Train Accuracy 0.73\n",
      "Test Accuracy 0.70\n",
      "[-0.11621593  0.04163929 -0.0218949   1.73588239 -0.          3.68084761\n",
      " -0.02707188 -1.24007073  0.21427949 -0.01045183 -0.70264226  0.01235152\n",
      " -0.60766973]\n"
     ]
    }
   ],
   "source": [
    "# In this section we will use the Lasso regression model to train and predict\n",
    "X_train, X_test, y_train, y_test = train_test_split(X, y, test_size=0.35, random_state=42)\n",
    "\n",
    "# train the model\n",
    "lasso_model.fit(X_train, y_train)\n",
    "\n",
    "# Calculate the predictive accuracy of training dataset\n",
    "# scoe method will returns the coefficient of determination R^2 of the prediction.\n",
    "training_acc_lasso = lasso_model.score(X_train, y_train)\n",
    "\n",
    "# Calculate the predictive accuracy of test dataset\n",
    "test_acc_lasso = lasso_model.score(X_test, y_test)\n",
    "\n",
    "# Print the stats \n",
    "print(\"Train Accuracy %.02f\" % training_acc_lasso)\n",
    "print(\"Test Accuracy %.02f\" % test_acc_lasso)\n",
    "\n",
    "print(lasso_model.coef_)\n",
    "\n",
    "pred_lasso_model = lasso_model.predict(X_test)"
   ]
  },
  {
   "cell_type": "code",
   "execution_count": 47,
   "metadata": {},
   "outputs": [
    {
     "data": {
      "image/png": "[encoded data removed]",
      "text/plain": [
       "<Figure size 576x576 with 1 Axes>"
      ]
     },
     "metadata": {
      "needs_background": "light"
     },
     "output_type": "display_data"
    }
   ],
   "source": [
    "#Plot the Scatter plots to show the predictions\n",
    "\n",
    "plt.scatter(y_test, pred_lasso_model, c = 'b') \n",
    "plt.xlabel(\"Housing Cost: in $1000's\") \n",
    "plt.ylabel(\"Predicted value using lasso regression model\") \n",
    "plt.title(\"True value vs predicted value\") \n",
    "plt.show()"
   ]
  },
  {
   "cell_type": "markdown",
   "metadata": {},
   "source": [
    "## GridsearchCV"
   ]
  },
  {
   "cell_type": "code",
   "execution_count": 2,
   "metadata": {},
   "outputs": [],
   "source": [
    "\"\"\"\n",
    "Grid search for regression. \n",
    "Optimizes over the parameter space and a set of decision thresholds for classification\n",
    "PARAMS:\n",
    "    estimator: type of model \n",
    "    paramsdict: space of parameters to search\n",
    "    thres: set of thresholds to use\n",
    "    X: all feature data \n",
    "    y: all target data \n",
    "    nsplits: number of cross validation folds\n",
    "    test_size: proportion of the data to hold out for testing\n",
    "\"\"\"\n",
    "def performGridRegressionSearchCV(estimator, paramsdict, thres, X, y, nsplits=3, test_size=0.25):\n",
    "    paramnames = paramsdict.keys()\n",
    "    paramvals = paramsdict.values()\n",
    "    \n",
    "    # Determine all the permutations of parameters\n",
    "    allparamsets = list(product(*paramvals))\n",
    "    nprmsets = len(allparamsets)\n",
    "    #thres = np.arange(-.1,.6,.04)\n",
    "\n",
    "    models_tpr = np.zeros((nprmsets,nsplits,len(thres)), float)\n",
    "    models_fpr = np.zeros((nprmsets,nsplits,len(thres)), float)\n",
    "    models_auc = np.zeros((nprmsets,nsplits), float)\n",
    "\n",
    "    # Perform stratified k fold cross validation\n",
    "    skf = StratifiedKFold(n_splits=nsplits)\n",
    "    X_train, X_test, y_train, y_test = train_test_split(X, y, stratify=y, test_size=test_size)\n",
    "    for s, (train, val) in enumerate(skf.split(X_train, y_train)):\n",
    "        for p, paramset in enumerate(allparamsets):\n",
    "            currparams = dict( zip(paramnames, paramset) )\n",
    "\n",
    "            # Train\n",
    "            estimator.set_params(**currparams)\n",
    "            estimator.fit(X_train[train,:], y_train[train])\n",
    "\n",
    "            # Validate the Model\n",
    "            preds = estimator.predict(X_train[val,:])\n",
    "            models_auc[p,s] = roc_auc_score(y_train[val], preds)\n",
    "\n",
    "            # Determine the labels for different thresholds\n",
    "            inds = [np.where(preds > t)[0] for t in thres]\n",
    "            # Compute PSS for different thresholds\n",
    "            for t, i in enumerate(inds):\n",
    "                prd = np.zeros(preds.shape, float)\n",
    "                prd[i] = 1 \n",
    "                pss, tpr, fpr = skillScore(y_train[val], prd, skill='pss')\n",
    "                models_tpr[p,s,t] = tpr\n",
    "                models_fpr[p,s,t] = fpr\n",
    "\n",
    "    # Compute average PSS across the folds for each threshold for all models\n",
    "    psses = models_tpr - models_fpr\n",
    "    avg_pss = np.mean(psses, axis=1)\n",
    "    avg_auc = np.mean(models_auc, axis=1)\n",
    "    avg_tpr = np.mean(models_tpr, axis=1)\n",
    "    avg_fpr = np.mean(models_fpr, axis=1)\n",
    "\n",
    "    mIdx = np.argmax(avg_auc) # get the index of the best parameter set\n",
    "    best_params = dict( zip(paramnames, allparamsets[mIdx])) # constructs a parameter dict\n",
    "    tIdx = np.argmax(avg_pss[mIdx]) # get the decision threshold\n",
    "\n",
    "    # ROC axes\n",
    "    fpr = avg_fpr[mIdx,:]\n",
    "    tpr = avg_tpr[mIdx,:]\n",
    "\n",
    "    plt.figure()\n",
    "    plt.plot(fpr, tpr)\n",
    "    plt.title('ROC Curve')\n",
    "    plt.ylabel('Average TPR')\n",
    "    plt.xlabel('Average FPR')\n",
    "    plt.savefig('bestparams_roc', bbox_inches=\"tight\")\n",
    "    #plt text of AUC on plot\n",
    "\n",
    "    # Construct model from all the training data, using the best parameters\n",
    "    estimator.set_params(**best_params)\n",
    "    estimator.fit(X_train, y_train)\n",
    "    \n",
    "    # Test the model and make the predictions binary\n",
    "    preds = estimator.predict(X_test)\n",
    "    preds[preds > thres[tIdx]] = 1\n",
    "    preds[preds <= thres[tIdx]] = 0\n",
    "    \n",
    "    # Confusion Matrix\n",
    "    cmtx = confusion_matrix(y_test, preds)\n",
    "    plot_confusion_matrix(cmtx, target_names)\n",
    "    \n",
    "    # Training statistics for the best threshold and parameter set\n",
    "    b_avg_pss = np.mean(models_tpr[mIdx,:,tIdx] - models_fpr[mIdx,:,tIdx])\n",
    "    b_std_pss = np.std(models_tpr[mIdx,:,tIdx] - models_fpr[mIdx,:,tIdx])\n",
    "    \n",
    "    print (\"Best Parameters\")\n",
    "    print (best_params)\n",
    "    print (\"Average Training PSS %.04f\" % b_avg_pss)\n",
    "    print (\"STD Training PSS %.04f\" % b_std_pss)\n",
    "    print (\"Best Model Test PSS %.04f\" % skillScore(y_test, preds, 'pss')[0])\n",
    "    print (\"Best Model Test Accuracy %.04f\" % skillScore(y_test, preds, 'acc'))\n",
    "    \n",
    "    return estimator"
   ]
  },
  {
   "cell_type": "markdown",
   "metadata": {},
   "source": [
    "\n",
    " \n"
   ]
  }
 ],
 "metadata": {
  "kernelspec": {
   "display_name": "Python 3",
   "language": "python",
   "name": "python3"
  },
  "language_info": {
   "codemirror_mode": {
    "name": "ipython",
    "version": 3
   },
   "file_extension": ".py",
   "mimetype": "text/x-python",
   "name": "python",
   "nbconvert_exporter": "python",
   "pygments_lexer": "ipython3",
   "version": "3.7.2"
  }
 },
 "nbformat": 4,
 "nbformat_minor": 2
}
